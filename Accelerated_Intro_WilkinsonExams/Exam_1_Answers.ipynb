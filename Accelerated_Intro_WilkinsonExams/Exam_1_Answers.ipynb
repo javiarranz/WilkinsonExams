{
 "cells": [
  {
   "cell_type": "markdown",
   "metadata": {},
   "source": [
    "Problem 2: Create a directory listing command that shows:\n",
    "\n",
    "\n",
    "\n",
    "We can see the ownership of the file when we use the LONG (-l) list command. And the size with the HUMAN READABLE (-h) command.   #ls -lh\n",
    "\n",
    "For the permissions, we can see them at the beggining grouped in three groups of three USER/GROUP/ANYONE (---/---/---). In this case the owner of every file (osboxes) can read and write, but not execute. The group (osboxes) can read and write, but not execute. Finally, everyone can read, but neither write or execute."
   ]
  },
  {
   "cell_type": "code",
   "execution_count": 1,
   "metadata": {
    "scrolled": true
   },
   "outputs": [
    {
     "name": "stdout",
     "output_type": "stream",
     "text": [
      "total 1.2M\n",
      "-rw-rw-r-- 1 osboxes osboxes  503 Sep  5 09:13 Exam_1_Answers.ipynb\n",
      "-rw-rw-r-- 1 osboxes osboxes 4.9K Sep  5 09:08 Exam Week 1.ipynb\n",
      "-rw-rw-r-- 1 osboxes osboxes  637 Sep  5 09:08 LocusGene.tsv\n",
      "-rw-rw-r-- 1 osboxes osboxes 1.2M Sep  5 09:08 Locus_Germplasm_Phenotype_20130122.txt\n",
      "-rw-rw-r-- 1 osboxes osboxes  743 Sep  5 09:08 README.md\n"
     ]
    }
   ],
   "source": [
    "ls -lh"
   ]
  },
  {
   "cell_type": "markdown",
   "metadata": {},
   "source": [
    "\n",
    "\n",
    "\n"
   ]
  },
  {
   "cell_type": "markdown",
   "metadata": {},
   "source": [
    "Problem 3: Create a command that outputs only the \"header\" line\n",
    "\n",
    "\n",
    "\n",
    "The command head shows us the first 10 lines of the selected document. If we want to see only the first line, we need to include the number of desired lines, in this case, only one. # head -1 file.txt\n",
    "\n",
    "The file in this test is_Germplasm_Phenotype_20130122.txt"
   ]
  },
  {
   "cell_type": "code",
   "execution_count": 2,
   "metadata": {},
   "outputs": [
    {
     "name": "stdout",
     "output_type": "stream",
     "text": [
      "Locus_name)\tGermplasm_name\tphenotype\tpubmed_id\n"
     ]
    }
   ],
   "source": [
    "head -1 Locus_Germplasm_Phenotype_20130122.txt"
   ]
  },
  {
   "cell_type": "markdown",
   "metadata": {},
   "source": [
    "\n",
    "\n",
    "\n"
   ]
  },
  {
   "cell_type": "markdown",
   "metadata": {},
   "source": [
    "Problem 4: Create a command that outputs the total number of lines in the file\n",
    "\n",
    "\n",
    "\n",
    "If we want to print the number of lines, the command \"wc\" counts every line called \"word count\" #wc\n",
    "If we only need the number of lines (as in this case) we can add the expression -l"
   ]
  },
  {
   "cell_type": "code",
   "execution_count": 3,
   "metadata": {},
   "outputs": [
    {
     "name": "stdout",
     "output_type": "stream",
     "text": [
      "7216 Locus_Germplasm_Phenotype_20130122.txt\n"
     ]
    }
   ],
   "source": [
    "wc -l Locus_Germplasm_Phenotype_20130122.txt"
   ]
  },
  {
   "cell_type": "markdown",
   "metadata": {},
   "source": [
    "\n",
    "\n",
    "\n"
   ]
  },
  {
   "cell_type": "markdown",
   "metadata": {},
   "source": [
    "Problem 5: Create a command that writes ONLY the data lines (i.e. excludes the header!) to a new file called \"Data_Only.csv\". Then prove that your output file has the expected number of lines\n",
    "\n",
    "\n",
    "\n",
    "As we know that the header is the line 1, and we already know the total number of lines, we can use the command \"tail\" that print the desired number of lines starting from the end, and include ever line except the first one (7216-1) # tail -7215 Locus_Germplasm_Phenotype_20130122.txt\n",
    "\n",
    "If we want to create a new file called \"Data_Only.cvs\", then we can direct the output to a file using \">\"\n",
    "\n",
    "To prove if this have the expected number of lines (7215) we can count again with the \"wc -l\" command. After that, it shows 7215 lines, so its correct.\n"
   ]
  },
  {
   "cell_type": "code",
   "execution_count": 4,
   "metadata": {},
   "outputs": [],
   "source": [
    "tail -7215 Locus_Germplasm_Phenotype_20130122.txt > Data_Only.cvs"
   ]
  },
  {
   "cell_type": "code",
   "execution_count": 5,
   "metadata": {},
   "outputs": [
    {
     "name": "stdout",
     "output_type": "stream",
     "text": [
      "7215 Data_Only.cvs\n"
     ]
    }
   ],
   "source": [
    "wc -l Data_Only.cvs"
   ]
  },
  {
   "cell_type": "markdown",
   "metadata": {},
   "source": [
    "\n",
    "\n",
    "\n"
   ]
  },
  {
   "cell_type": "markdown",
   "metadata": {},
   "source": [
    "Problem 6: Create a command that shows all of the lines that have a phenotype including the word \"root\"\n",
    "\n",
    "\n",
    "\n",
    "If we only want to look for the phenotypes that have the word root, then we use the command \"grep\" and we look for the word \"root\". We add the expression -i because the word root could be written in capital letters too, and the case is not important here.\n"
   ]
  },
  {
   "cell_type": "code",
   "execution_count": 1,
   "metadata": {},
   "outputs": [
    {
     "name": "stdout",
     "output_type": "stream",
     "text": [
      "AT1G01550\tbps1-2\tGrowth of bps1-2 mutants on CPTA-supplemented medium resulted in partial rescue of both leaf and \u001b[01;31m\u001b[Kroot\u001b[m\u001b[K defects. bps1-2 mutants grown on control growth medium have small radialized leaves with very little vascular tissue, and very short misshapen knotted-looking \u001b[01;31m\u001b[Kroot\u001b[m\u001b[Ks. By contrast, bps1-2 mutants grown on CPTA-supplemented medium produced larger flattened leaves that contained primary and secondary veins, and smooth elongated \u001b[01;31m\u001b[Kroot\u001b[m\u001b[Ks.\t17217459\n",
      "AT1G01550\tbps1-2\tMutant \u001b[01;31m\u001b[Kroot\u001b[m\u001b[Ks were abnormal; primary and lateral \u001b[01;31m\u001b[Kroot\u001b[m\u001b[Ks were short, \u001b[01;31m\u001b[Kroot\u001b[m\u001b[K hairs formed close to the \u001b[01;31m\u001b[Kroot\u001b[m\u001b[K apex, and \u001b[01;31m\u001b[Kroot\u001b[m\u001b[K defects were most severe when plants were grown at low temperature.\t15458645\n",
      "AT1G01550\tbps1-2\tUnder high light conditions (approximately 200 &mu;E.m-2.sec-1), CPTA-treated seedlings were completely photobleached and mutants showed rescue of both leaf and \u001b[01;31m\u001b[Kroot\u001b[m\u001b[K development. Under moderate (approximately 100 &mu;E.m-2.sec-1) and low (30 &mu;E.m-2.sec-1) light intensities, seedlings are incompletely photobleached, but leaf and \u001b[01;31m\u001b[Kroot\u001b[m\u001b[K development continue to show partial rescue.\t17217459\n",
      "AT1G02970\twee1-1\tsignificant decreased \u001b[01;31m\u001b[Kroot\u001b[m\u001b[K elongation rates, densely clustered hairs at the \u001b[01;31m\u001b[Kroot\u001b[m\u001b[K tip and outgrowth of lateral \u001b[01;31m\u001b[Kroot\u001b[m\u001b[Ks\t17209125\n",
      "AT1G03000\tpex6\tResistant to \u001b[01;31m\u001b[Kroot\u001b[m\u001b[K elongation inhibition by IBA but responds normally to IAA.  Fails to respond to the stimulatory effects of IBA on lateral \u001b[01;31m\u001b[Kroot\u001b[m\u001b[K initiation but makes lateral \u001b[01;31m\u001b[Kroot\u001b[m\u001b[Ks in response to IAA.  Specifically defective in IBA responses.  Has several peroxisome-defective phenotypes:  does not develop normally without exogenous sucrose, dramatic defects in hypocotyl and \u001b[01;31m\u001b[Kroot\u001b[m\u001b[K elongation in the absence of sucrose. Shorter \u001b[01;31m\u001b[Kroot\u001b[m\u001b[K and hypocotyl than WT.  Plants grown in soil have smaller rosettes, fewer rosette leaves, and shorter primary inflorescence stems than WT.  Also has shorter siliques containing fewer seeds than WT.  Pale green in color.\t14745029\n",
      "AT1G03060\tspi-11\tTrichome cells have shorter branches, reduced stalk length and width.  Epidermal pavement cells are less complex, with less lobing.  \u001b[01;31m\u001b[KRoot\u001b[m\u001b[K hairs are shorter and \u001b[01;31m\u001b[Kroot\u001b[m\u001b[K hair vacuoles are fragmented.\t19392685\n",
      "AT1G03060\tspi-12\tTrichome cells have shorter branches, reduced stalk length and width.  Epidermal pavement cells are less complex, with less lobing.  \u001b[01;31m\u001b[KRoot\u001b[m\u001b[K hairs are shorter and \u001b[01;31m\u001b[Kroot\u001b[m\u001b[K hair vacuoles are fragmented.\t19392685\n",
      "AT1G03060\tspi-139\tTrichome cells have shorter branches, reduced stalk length and width.  Epidermal pavement cells are less complex, with less lobing.  \u001b[01;31m\u001b[KRoot\u001b[m\u001b[K hairs are shorter and \u001b[01;31m\u001b[Kroot\u001b[m\u001b[K hair vacuoles are fragmented.\t19392685\n",
      "AT1G03060\tspi-4.2\tTrichome cells have shorter branches, reduced stalk length and width.  Epidermal pavement cells are less complex, with less lobing.  \u001b[01;31m\u001b[KRoot\u001b[m\u001b[K hairs are shorter and \u001b[01;31m\u001b[Kroot\u001b[m\u001b[K hair vacuoles are fragmented.\t19392685\n",
      "AT1G04020\tbard1-3\tMutant meristems develop abnormally.The meristem is enlarged shortly after germination and appears disorganized. Primordia are irregular and lateral organs produced include tubular and finger-like structures. Also affects the development of \u001b[01;31m\u001b[Kroot\u001b[m\u001b[Ks. Primary \u001b[01;31m\u001b[Kroot\u001b[m\u001b[K growth is inhibited. The \u001b[01;31m\u001b[Kroot\u001b[m\u001b[K apical meristems are enlarged and lack distinct columella cells or starch granules.\t18591352\n",
      "AT1G04030\tbard1-3\tMutant meristems develop abnormally.The meristem is enlarged shortly after germination and appears disorganized. Primordia are irregular and lateral organs produced include tubular and finger-like structures. Also affects the development of \u001b[01;31m\u001b[Kroot\u001b[m\u001b[Ks. Primary \u001b[01;31m\u001b[Kroot\u001b[m\u001b[K growth is inhibited. The \u001b[01;31m\u001b[Kroot\u001b[m\u001b[K apical meristems are enlarged and lack distinct columella cells or starch granules.\t18591352\n",
      "AT1G04160\tCS859930\tThere are no obvious defects in the aerial tissues, \u001b[01;31m\u001b[Kroot\u001b[m\u001b[Ks, or \u001b[01;31m\u001b[Kroot\u001b[m\u001b[K hairs of xi-b mutant plants grown under normal conditions. There are also no obvious defects in organelle trafficking. Double mutant analysis reveals a role for xi-b in \u001b[01;31m\u001b[Kroot\u001b[m\u001b[K hair elongation (see xi-2/xi-b).\t18178669\n",
      "AT1G04160\tSALK_113062C\tThere are no obvious defects in the aerial tissues, \u001b[01;31m\u001b[Kroot\u001b[m\u001b[Ks, or \u001b[01;31m\u001b[Kroot\u001b[m\u001b[K hairs of xi-b mutant plants grown under normal conditions. There are also no obvious defects in organelle trafficking. Double mutant analysis reveals a role for xi-b in \u001b[01;31m\u001b[Kroot\u001b[m\u001b[K hair elongation (see xi-2/xi-b)\t18178669\n",
      "AT1G04160\txi-2 / xi-b\tThe overall growth of the xi-2 / xi-b double mutant is normal. In the leaf epidermis, Golgi stacks and peroxisomes move more slowly in these mutant cells than in wild-type cells. The rate of mitochondrial movement is also slightly reduced. \u001b[01;31m\u001b[KRoot\u001b[m\u001b[K hair length is reduced to ~15% of the wild type \u001b[01;31m\u001b[Kroot\u001b[m\u001b[K hair length in these double mutants, but their \u001b[01;31m\u001b[Kroot\u001b[m\u001b[K hair density is very similar to the wild type density.\t19060218\n",
      "AT1G04220\tdaisy-2\tsignificantly reduced \u001b[01;31m\u001b[Kroot\u001b[m\u001b[K growth\t18786002\n",
      "AT1G04250\tCS57505\tThe mutant is less affected by brassinolide than wildtype with regard to inhibition of \u001b[01;31m\u001b[Kroot\u001b[m\u001b[K elongation.\t16367964\n",
      "AT1G05180\tAXL/axl-1 axr1-12\tHomozygous axr1-12 plants that are heterozygous for axl-1 display severe growth defects. These seedlings developed short, slow growing \u001b[01;31m\u001b[Kroot\u001b[m\u001b[Ks compared with wild-type \u001b[01;31m\u001b[Kroot\u001b[m\u001b[Ks, and were arrested at the late seedling stage.\t17655650\n",
      "AT1G05180\tAXL/axl-1 axr1-12\tThe columella of AXL/axl-1 axr1-12/axr1-12 \u001b[01;31m\u001b[Kroot\u001b[m\u001b[K tips is highly disorganized during early seedling \u001b[01;31m\u001b[Kroot\u001b[m\u001b[K growth, and is completely disrupted at the time when \u001b[01;31m\u001b[Kroot\u001b[m\u001b[K growth ceases.\t17655650\n",
      "AT1G05180\tCS8038\tauxin resistant; irregular rosette leaves, slightly curled around leaf axis; \u001b[01;31m\u001b[Kroot\u001b[m\u001b[Ks very auxin resistant; defective \u001b[01;31m\u001b[Kroot\u001b[m\u001b[K gravitropism; reduced number of lateral \u001b[01;31m\u001b[Kroot\u001b[m\u001b[Ks; plant appearance similar to axr1-12, but more pronounced; dwarf, bushy plants; reduced plant height; reduced fertility.\t7704045\n",
      "AT1G05850\tpom1-1\tCallus-induced \u001b[01;31m\u001b[Kroot\u001b[m\u001b[Ks from the mutant displayed the mutant phenotype when they grew under restrictive conditions. All the mutants responded to a gravitropic stimulus in a manner similar to wild type although the change of the direction of growth was slower than wild type.\t7743935\n",
      "AT1G05850\tpom1-7\tWhen grown on media containing 0.5% sucrose, the mutant had reduced \u001b[01;31m\u001b[Kroot\u001b[m\u001b[K length but no apparent radial cell expansion.\t7743935\n",
      "AT1G05850\tpom1-8\tWhen grown on media containing 0.5% sucrose, the mutant had reduced \u001b[01;31m\u001b[Kroot\u001b[m\u001b[K length but no apparent radial cell expansion.\t7743935\n",
      "AT1G06290\tacx3-2\tPlants display decreased sensitivity to the inhibitory effect of indole-3-butyric acid (IBA) on \u001b[01;31m\u001b[Kroot\u001b[m\u001b[K elongation, while remaining sensitive to inhibitory concentrations of indole-3-acetic acid.  They maintain their ability to initiate lateral \u001b[01;31m\u001b[Kroot\u001b[m\u001b[Ks in response to IBA.\t15743450\n",
      "AT1G06290\tacx3-4\tPlants display decreased sensitivity to the inhibitory effect of indole-3-butyric acid (IBA) on \u001b[01;31m\u001b[Kroot\u001b[m\u001b[K elongation, while remaining sensitive to inhibitory concentrations of indole-3-acetic acid.  They maintain their ability to initiate lateral \u001b[01;31m\u001b[Kroot\u001b[m\u001b[Ks in response to IBA.\t15743450\n",
      "AT1G08030\tSALK_009847\tSeedlings of tpst-1 had stunted \u001b[01;31m\u001b[Kroot\u001b[m\u001b[Ks and smaller cotyledons compared with the WT.  tpst-1 has an abnormally shaped \u001b[01;31m\u001b[Kroot\u001b[m\u001b[K apical meristem due to disorganized cell division and expansion. At 15 days after germination, the leaves of the tpst-1 plants are small and pale green, the number of higher order veins is reduced, and the secondary veins often do not close.  At the flowering stage, tpst-1 has smaller rosettes, tiny leaves showing early senescence, shorter inflorescence, and a reduced number of flowers and siliques. The fertility and seed set of tpst-1 are normal.\t19666544\n"
     ]
    },
    {
     "name": "stdout",
     "output_type": "stream",
     "text": [
      "AT1G08260\ttilted1-4\tTwenty-five percent of embryos show abnormal cell divisions during embryogenesis-large cells- decreased rate of cell division. Division of the hypohyseal cell abnormal leading to abnormal placement of the \u001b[01;31m\u001b[Kroot\u001b[m\u001b[K pole. Homozygotes show delayed flowering, abnormal floraly phyllotaxy and abnormal ovules.\t16278345\n",
      "AT1G08370\tdcp1-2\tThe homozygous progeny is seedling lethal, showed arrested postembryonic development including cotyledon expansion, development of vascular networks, \u001b[01;31m\u001b[Kroot\u001b[m\u001b[K elongation, and shoot development.\t17485080\n",
      "AT1G08430\tAtalm1-KO\tOn Al3+ medium, the mutant has significantly shorter \u001b[01;31m\u001b[Kroot\u001b[m\u001b[Ks than the Col wild type. In the absence of aluminum stress, the \u001b[01;31m\u001b[Kroot\u001b[m\u001b[Ks of mutant and wild type grew similarly.\t16740662\n",
      "AT1G08430\tAtalm1-KO\tThe mutant exhibits very low levels of \u001b[01;31m\u001b[Kroot\u001b[m\u001b[K  growth and malate release in the presence of  Al (0.2 nmol plant-1 24 h-1).\n",
      "AT1G09100\trpt5b\tInsensitive to high-glucose repression of cotyledon expansion, chlorophyll accumulation, true-leaf development and \u001b[01;31m\u001b[Kroot\u001b[m\u001b[K elongation. The response is specific to glucose but not to osmotic changes.\t17081979\n",
      "AT1G09110\trpt5b\tInsensitive to high-glucose repression of cotyledon expansion, chlorophyll accumulation, true-leaf development and \u001b[01;31m\u001b[Kroot\u001b[m\u001b[K elongation. The response is specific to glucose but not to osmotic changes.\t17081979\n",
      "AT1G09940\tathema2\tno visible phenotype. decreased heme contents in \u001b[01;31m\u001b[Kroot\u001b[m\u001b[Ks.\n",
      "AT1G10130\teca3-1\tShoot and \u001b[01;31m\u001b[Kroot\u001b[m\u001b[K growth is strongly retarded when plants are grown in the absence of Mn.  Also shows delayed growth when grown in the absence of Ca.\t18024560\n",
      "AT1G10570\tots1-1 ots2-1\tThe ots1-1 ots2-1 double mutant plants flower earlier than wild type plants under long days and short days. They do not differ notably from wild type plants with respect to their overall growth rate, inflorescence structure, or seedling primary \u001b[01;31m\u001b[Kroot\u001b[m\u001b[K elongation rate. But, they are hypersensitive to salt based on \u001b[01;31m\u001b[Kroot\u001b[m\u001b[K elongation assays. They also have a higher level of SUMOylated proteins than wild type seedlings exposed to salt stress.\t18849491\n",
      "AT1G11130\tscm-1\tPosition of \u001b[01;31m\u001b[Kroot\u001b[m\u001b[K-hair cells is scrambled.  Only 66% of epidermal cells (compared with 92% in wild type) overlying two cortical cells develop as \u001b[01;31m\u001b[Kroot\u001b[m\u001b[K hairs, and 21% of epidermal cells overlying one cortical cell (compared with 1% in wild type) develop as \u001b[01;31m\u001b[Kroot\u001b[m\u001b[K hairs.\t15618487\n",
      "AT1G12240\tSALK_100813 (homozygous)\tSignificantly shorter \u001b[01;31m\u001b[Kroot\u001b[m\u001b[Ks.  50% reduction in vacuolar invertase (Vac-Inv) activity compared to parental line.\t16481625\n",
      "AT1G12610\tddf1-LF1\tLonger \u001b[01;31m\u001b[Kroot\u001b[m\u001b[Ks when plants are grown under salt stress (50-100 nM NaCl).\t18643985\n",
      "AT1G13290\tdot5-1\tdot5-1 mutants have a misaligned venation defect in their leaves and cotyledons. Their phenotypes may vary somewhat, but dot5-1 mutants often have shorter \u001b[01;31m\u001b[Kroot\u001b[m\u001b[Ks and delayed leaf initiation compared to wild-type seedlings. They also have an abnormal petiole length and phyllotaxy. Apical dominance is reduced in dot5-1 mutants, and they appear to be hypersensitive to an application of the polar auxin transport inhibitor NPA.\t18643975\n",
      "AT1G14290\tsbh1-1 sbh2-1\tDwarf plants with reduced vigor, dies before expansion of the true leaves, necrotic lesions on cotyledons. When grew on agar plates, the double mutants displayed extended viability and developed into compact and epinastic rosette with small curled leaves and short petioles, however no bolting. Short \u001b[01;31m\u001b[Kroot\u001b[m\u001b[Ks on agar plate.\t18612100\n",
      "AT1G14660\tSALK_070497\tLi+ hypersensitive. Under low Li+ concentrations, germination of mutant seeds and elongation of \u001b[01;31m\u001b[Kroot\u001b[m\u001b[Ks were significantly reduced.\t17270011\n",
      "AT1G14660\tSALK_086336\tLi+ hypersensitive. Under low Li+ concentrations, germination of mutant seeds and elongation of \u001b[01;31m\u001b[Kroot\u001b[m\u001b[Ks were significantly reduced.\t17270011\n",
      "AT1G15550\tga3ox1-3\t\u001b[01;31m\u001b[KRoot\u001b[m\u001b[Ks shorter than that of wildtype.\t16460513\n",
      "AT1G15550\tga3ox1-3 ga3ox2-1\tSevere defect in \u001b[01;31m\u001b[Kroot\u001b[m\u001b[K length.\t16460513\n",
      "AT1G15690\tavp1-1\tShoot defects include: smaller leaves, decreased cell number in leaves, mesophyll and vascular patterning disorganized, cup-shaped cotyledons.\u001b[01;31m\u001b[KRoot\u001b[m\u001b[K defects: small cells at apex, columella cell layers reduced to 2, deformed \u001b[01;31m\u001b[Kroot\u001b[m\u001b[K cap.\t16210544\n",
      "AT1G16150\twakl4-1\tSeedlings consistently show retarded \u001b[01;31m\u001b[Kroot\u001b[m\u001b[K growth when grown in full- or one-half-strength MS nutrients and are hypersensitive, as assayed by a \u001b[01;31m\u001b[Kroot\u001b[m\u001b[K elongation assay, to Na+, K+, Zn2+ and Cu2+.\t16286448\n",
      "AT1G17110\tubp15-1\tubp15-1 mutants exhibit several anatomical defects related to leaf, \u001b[01;31m\u001b[Kroot\u001b[m\u001b[K, flower, stem, and silique development. Notably, rosette leaves are narrow and serrated. An examination of ubp15-1 leaf cross-sections reveals a reduction in the number of adaxial epidermal and palisade cells spanning the width of the leaf. ubp15-1 mutant leaves also have fewer spongy cell layers than wild type leaves. The aberrant phenotype of this mutant is exacerbated when it is crossed with ubp16-1.\t18485060\n",
      "AT1G17170\tgst\tAs for the \u001b[01;31m\u001b[Kroot\u001b[m\u001b[K growth assay, the \u001b[01;31m\u001b[Kroot\u001b[m\u001b[K elongation of both the mutant and the wild-type was inhibited at lower concentrations of TNT than 2,6-DNT. In addition, there was no statistically significant difference of the \u001b[01;31m\u001b[Kroot\u001b[m\u001b[K elongation between the gst mutant and the wild-type exposed to different concentrations of 2,6-DNT and TNT from t-test.\n",
      "AT1G17440\teer4\t\u001b[01;31m\u001b[KRoot\u001b[m\u001b[Ks are extremely curled.   Dark-grown seedlings are hypersensitive to ethylene. Extreme hypocotyl shortening is observed when grown on 100ul /L ethylene.\n",
      "AT1G17580\tSALK_019031C\tThere are no obvious defects in the aerial tissues, \u001b[01;31m\u001b[Kroot\u001b[m\u001b[Ks, or \u001b[01;31m\u001b[Kroot\u001b[m\u001b[K hairs of xi-1 mutant plants grown under normal conditions. There are also no obvious defects in organelle trafficking, except for a slight effect on peroxisome movement. Double mutant analysis reveals a greater role for XI-1 in organelle movement and plant development (see xik-2/xi-1).\t18178669\n",
      "AT1G17580\txi-k / xi-1\tThe xi-k / xi-1 double mutant plants are shorter and have smaller rosettes than wild type plants. Their reduced leaf size results from decreased cell size and decreased cell number. These double mutants produce fewer seeds per silique than wild type plants. In the leaf epidermis, Golgi stacks, peroxisomes, and mitochondria move more slowly in these mutant cells than in wild-type cells. \u001b[01;31m\u001b[KRoot\u001b[m\u001b[K hair length is reduced to ~35% of the wild type \u001b[01;31m\u001b[Kroot\u001b[m\u001b[K hair length in these double mutants, but their \u001b[01;31m\u001b[Kroot\u001b[m\u001b[K hair density is very similar to the wild type density.\t19060218\n",
      "AT1G18350\tbud1\tbud1 plants develop significantly fewer  lateral \u001b[01;31m\u001b[Kroot\u001b[m\u001b[Ks, simpler venation patterns, and a quicker and greater curvature in the gravitropism assay. In addition, the bud1  plants have shorter hypocotyls at high temperature (29C) under light, which is a characteristic feature of defective auxin  action. Determination of tritium-labeled indole-3-acetic acid transport showed that the increased expression of MKK7 in bud1  or the repressed expression in MKK7 antisense transgenic plants causes deficiency or enhancement in auxin transport,  indicating that MKK7 negatively regulates polar auxin transport.\t16377756\n",
      "AT1G18800\tnrp1-1 nrp2-1\tDouble mutant plants showed a short-\u001b[01;31m\u001b[Kroot\u001b[m\u001b[K phenotype: \u001b[01;31m\u001b[Kroot\u001b[m\u001b[Ks grew like the wild-type \u001b[01;31m\u001b[Kroot\u001b[m\u001b[Ks until 6 d after germination (DAG). However, after 7 DAG, the elongation of the double mutant \u001b[01;31m\u001b[Kroot\u001b[m\u001b[Ks was dramatically reduced compared with the wild-type \u001b[01;31m\u001b[Kroot\u001b[m\u001b[Ks. The aerial organs (leaves, rosettes, inflorescences, flowers, fruits, and embryos) developed normally in the double mutant plants.\n",
      "AT1G19220\tCS24617\tThe primary \u001b[01;31m\u001b[Kroot\u001b[m\u001b[Ks of the mutant produce as many lateral \u001b[01;31m\u001b[Kroot\u001b[m\u001b[Ks as the wild type.\t15659631\n"
     ]
    },
    {
     "name": "stdout",
     "output_type": "stream",
     "text": [
      "AT1G19220\tCS24617\tno obvious auxin-related growth phenotype, but \u001b[01;31m\u001b[Kroot\u001b[m\u001b[Ks show mild auxin resistance\t15659631\n",
      "AT1G19220\tCS24618\tno obvious auxin-related growth phenotype, but \u001b[01;31m\u001b[Kroot\u001b[m\u001b[Ks show mild auxin resistance\t15659631\n",
      "Binary file Locus_Germplasm_Phenotype_20130122.txt matches\n"
     ]
    }
   ],
   "source": [
    "grep -i \"root\" Locus_Germplasm_Phenotype_20130122.txt"
   ]
  },
  {
   "cell_type": "markdown",
   "metadata": {},
   "source": [
    "\n",
    "\n",
    "\n"
   ]
  },
  {
   "cell_type": "markdown",
   "metadata": {},
   "source": [
    "Problem 7: Create a command that writes the AGI Locus Code for every line that has a phenotype including the word \"root\" to a file called: \"Root-associated-Loci.txt\"\n",
    "\n",
    "\n",
    "\n",
    "For this problem, we need first to look for the lines that include the word \"root\", for this purpose we write the same code we did in the last exercise (\"grep -i \"root\" Locus_Germplasm_Phenotype_20130122.txt\"). \n",
    "However, in this case we want the output of this code to be the input of our second condition, to include just the AGI locus. Then, we will use pipe \"|\" and write another grep condition. # grep -Eio \"AT[0-5]G[0-9]{5}\"\n",
    "\n",
    "This \"AT[0-5]G[0-9]{5}\" was selected because at the beggining of the exam is mentioned that the AGI (locus code) has this specific structure following specific conditions.\n",
    "\n",
    "Finally, we need to create or \"rewrite\" this text that is going to be printed into a new file called \"root-associate-Loci.txt\". Again, we use \">\"."
   ]
  },
  {
   "cell_type": "code",
   "execution_count": 3,
   "metadata": {},
   "outputs": [],
   "source": [
    "grep -i \"root\" Locus_Germplasm_Phenotype_20130122.txt | grep -Eio \"AT[0-5]G[0-9]{5}\" > root-associate-Loci.txt"
   ]
  },
  {
   "cell_type": "code",
   "execution_count": 6,
   "metadata": {},
   "outputs": [
    {
     "name": "stdout",
     "output_type": "stream",
     "text": [
      "55 root-associate-Loci.txt\n"
     ]
    }
   ],
   "source": [
    "wc -l root-associate-Loci.txt"
   ]
  },
  {
   "cell_type": "markdown",
   "metadata": {},
   "source": [
    "\n",
    "\n",
    "\n"
   ]
  },
  {
   "cell_type": "markdown",
   "metadata": {},
   "source": [
    "Problem 8: Create a command that writes the PubMed ID for every line that has a phenotype including the word \"root\" to a file called: \"Root-associated-Publications.txt\"\n",
    "\n",
    "\n",
    "\n",
    "In this problem we can solve it using the same code we used for the last one, but changing the second condition and the name of the file. In this case, the second condition is going to be the Pubmed ID (\"PubMed IDs are all digits (0-9) but the length of the ID is unpredictable\"). The command is # grep -Eio \"\\s[0-9]+$\"\n",
    "\n",
    "Explanation \"\\s[0-9]+$\":\n",
    "    - All Pubmed ID have an space before\n",
    "    - The number of digits is unpredictable (1 or more)\n",
    "    - They are all located at the end of the line \"$\""
   ]
  },
  {
   "cell_type": "code",
   "execution_count": 7,
   "metadata": {},
   "outputs": [],
   "source": [
    "grep -i \"root\" Locus_Germplasm_Phenotype_20130122.txt | grep -Eio \"\\s[0-9]+$\" > Root-associate-Publications.txt"
   ]
  },
  {
   "cell_type": "code",
   "execution_count": 8,
   "metadata": {},
   "outputs": [
    {
     "name": "stdout",
     "output_type": "stream",
     "text": [
      "50 Root-associate-Publications.txt\n"
     ]
    }
   ],
   "source": [
    "wc -l Root-associate-Publications.txt"
   ]
  },
  {
   "cell_type": "markdown",
   "metadata": {},
   "source": [
    "\n",
    "\n",
    "\n"
   ]
  },
  {
   "cell_type": "markdown",
   "metadata": {},
   "source": [
    "Problem 9: Control experiment: You would hypothesize that genes associated with roots should be found on all chromosomes. Find a way (one or more commands) to test this hypothesis. In this dataset, is the hypothesis true?\n",
    "\n",
    "\n",
    "The number of the cromosome is located in the first number of the AGI Locus Code (third character), as indicated at the beggining of the exam \"The third character is the chromosome number (between 1 and 5)\".\n",
    "\n",
    "Using this date we figure out if the genes associated with roots should be found in all cromosomes, we search the lines that include the word rute, and we use this output to find out if they are in the chromosome 1, 2, 3, 4 or 5 respectively. #grep -i \"root\" Locus_Germplasm_Phenotype_20130122.txt | grep -io \"AT1\"\n",
    "Another way to do it could be counting the number of lines for each chromosome using the \"wc\" command.\n",
    "\n",
    "\n",
    "As we can see, in the chromosome 1 we find the genes associated with  the chromosome 1, but when we try the same code changing the third character (number of chromosome), 0 genes are printed."
   ]
  },
  {
   "cell_type": "code",
   "execution_count": 14,
   "metadata": {},
   "outputs": [
    {
     "name": "stdout",
     "output_type": "stream",
     "text": [
      "\u001b[01;31m\u001b[KAT1\u001b[m\u001b[KG01550\tbps1-2\tGrowth of bps1-2 mutants on CPTA-supplemented medium resulted in partial rescue of both leaf and root defects. bps1-2 mutants grown on control growth medium have small radialized leaves with very little vascular tissue, and very short misshapen knotted-looking roots. By contrast, bps1-2 mutants grown on CPTA-supplemented medium produced larger flattened leaves that contained primary and secondary veins, and smooth elongated roots.\t17217459\n",
      "\u001b[01;31m\u001b[KAT1\u001b[m\u001b[KG01550\tbps1-2\tMutant roots were abnormal; primary and lateral roots were short, root hairs formed close to the root apex, and root defects were most severe when plants were grown at low temperature.\t15458645\n",
      "\u001b[01;31m\u001b[KAT1\u001b[m\u001b[KG01550\tbps1-2\tUnder high light conditions (approximately 200 &mu;E.m-2.sec-1), CPTA-treated seedlings were completely photobleached and mutants showed rescue of both leaf and root development. Under moderate (approximately 100 &mu;E.m-2.sec-1) and low (30 &mu;E.m-2.sec-1) light intensities, seedlings are incompletely photobleached, but leaf and root development continue to show partial rescue.\t17217459\n",
      "\u001b[01;31m\u001b[KAT1\u001b[m\u001b[KG02970\twee1-1\tsignificant decreased root elongation rates, densely clustered hairs at the root tip and outgrowth of lateral roots\t17209125\n",
      "\u001b[01;31m\u001b[KAT1\u001b[m\u001b[KG03000\tpex6\tResistant to root elongation inhibition by IBA but responds normally to IAA.  Fails to respond to the stimulatory effects of IBA on lateral root initiation but makes lateral roots in response to IAA.  Specifically defective in IBA responses.  Has several peroxisome-defective phenotypes:  does not develop normally without exogenous sucrose, dramatic defects in hypocotyl and root elongation in the absence of sucrose. Shorter root and hypocotyl than WT.  Plants grown in soil have smaller rosettes, fewer rosette leaves, and shorter primary inflorescence stems than WT.  Also has shorter siliques containing fewer seeds than WT.  Pale green in color.\t14745029\n",
      "\u001b[01;31m\u001b[KAT1\u001b[m\u001b[KG03060\tspi-11\tTrichome cells have shorter branches, reduced stalk length and width.  Epidermal pavement cells are less complex, with less lobing.  Root hairs are shorter and root hair vacuoles are fragmented.\t19392685\n",
      "\u001b[01;31m\u001b[KAT1\u001b[m\u001b[KG03060\tspi-12\tTrichome cells have shorter branches, reduced stalk length and width.  Epidermal pavement cells are less complex, with less lobing.  Root hairs are shorter and root hair vacuoles are fragmented.\t19392685\n",
      "\u001b[01;31m\u001b[KAT1\u001b[m\u001b[KG03060\tspi-139\tTrichome cells have shorter branches, reduced stalk length and width.  Epidermal pavement cells are less complex, with less lobing.  Root hairs are shorter and root hair vacuoles are fragmented.\t19392685\n",
      "\u001b[01;31m\u001b[KAT1\u001b[m\u001b[KG03060\tspi-4.2\tTrichome cells have shorter branches, reduced stalk length and width.  Epidermal pavement cells are less complex, with less lobing.  Root hairs are shorter and root hair vacuoles are fragmented.\t19392685\n",
      "\u001b[01;31m\u001b[KAT1\u001b[m\u001b[KG04020\tbard1-3\tMutant meristems develop abnormally.The meristem is enlarged shortly after germination and appears disorganized. Primordia are irregular and lateral organs produced include tubular and finger-like structures. Also affects the development of roots. Primary root growth is inhibited. The root apical meristems are enlarged and lack distinct columella cells or starch granules.\t18591352\n",
      "\u001b[01;31m\u001b[KAT1\u001b[m\u001b[KG04030\tbard1-3\tMutant meristems develop abnormally.The meristem is enlarged shortly after germination and appears disorganized. Primordia are irregular and lateral organs produced include tubular and finger-like structures. Also affects the development of roots. Primary root growth is inhibited. The root apical meristems are enlarged and lack distinct columella cells or starch granules.\t18591352\n",
      "\u001b[01;31m\u001b[KAT1\u001b[m\u001b[KG04160\tCS859930\tThere are no obvious defects in the aerial tissues, roots, or root hairs of xi-b mutant plants grown under normal conditions. There are also no obvious defects in organelle trafficking. Double mutant analysis reveals a role for xi-b in root hair elongation (see xi-2/xi-b).\t18178669\n",
      "\u001b[01;31m\u001b[KAT1\u001b[m\u001b[KG04160\tSALK_113062C\tThere are no obvious defects in the aerial tissues, roots, or root hairs of xi-b mutant plants grown under normal conditions. There are also no obvious defects in organelle trafficking. Double mutant analysis reveals a role for xi-b in root hair elongation (see xi-2/xi-b)\t18178669\n",
      "\u001b[01;31m\u001b[KAT1\u001b[m\u001b[KG04160\txi-2 / xi-b\tThe overall growth of the xi-2 / xi-b double mutant is normal. In the leaf epidermis, Golgi stacks and peroxisomes move more slowly in these mutant cells than in wild-type cells. The rate of mitochondrial movement is also slightly reduced. Root hair length is reduced to ~15% of the wild type root hair length in these double mutants, but their root hair density is very similar to the wild type density.\t19060218\n",
      "\u001b[01;31m\u001b[KAT1\u001b[m\u001b[KG04220\tdaisy-2\tsignificantly reduced root growth\t18786002\n",
      "\u001b[01;31m\u001b[KAT1\u001b[m\u001b[KG04250\tCS57505\tThe mutant is less affected by brassinolide than wildtype with regard to inhibition of root elongation.\t16367964\n",
      "\u001b[01;31m\u001b[KAT1\u001b[m\u001b[KG05180\tAXL/axl-1 axr1-12\tHomozygous axr1-12 plants that are heterozygous for axl-1 display severe growth defects. These seedlings developed short, slow growing roots compared with wild-type roots, and were arrested at the late seedling stage.\t17655650\n",
      "\u001b[01;31m\u001b[KAT1\u001b[m\u001b[KG05180\tAXL/axl-1 axr1-12\tThe columella of AXL/axl-1 axr1-12/axr1-12 root tips is highly disorganized during early seedling root growth, and is completely disrupted at the time when root growth ceases.\t17655650\n",
      "\u001b[01;31m\u001b[KAT1\u001b[m\u001b[KG05180\tCS8038\tauxin resistant; irregular rosette leaves, slightly curled around leaf axis; roots very auxin resistant; defective root gravitropism; reduced number of lateral roots; plant appearance similar to axr1-12, but more pronounced; dwarf, bushy plants; reduced plant height; reduced fertility.\t7704045\n",
      "\u001b[01;31m\u001b[KAT1\u001b[m\u001b[KG05850\tpom1-1\tCallus-induced roots from the mutant displayed the mutant phenotype when they grew under restrictive conditions. All the mutants responded to a gravitropic stimulus in a manner similar to wild type although the change of the direction of growth was slower than wild type.\t7743935\n",
      "\u001b[01;31m\u001b[KAT1\u001b[m\u001b[KG05850\tpom1-7\tWhen grown on media containing 0.5% sucrose, the mutant had reduced root length but no apparent radial cell expansion.\t7743935\n",
      "\u001b[01;31m\u001b[KAT1\u001b[m\u001b[KG05850\tpom1-8\tWhen grown on media containing 0.5% sucrose, the mutant had reduced root length but no apparent radial cell expansion.\t7743935\n",
      "\u001b[01;31m\u001b[KAT1\u001b[m\u001b[KG06290\tacx3-2\tPlants display decreased sensitivity to the inhibitory effect of indole-3-butyric acid (IBA) on root elongation, while remaining sensitive to inhibitory concentrations of indole-3-acetic acid.  They maintain their ability to initiate lateral roots in response to IBA.\t15743450\n",
      "\u001b[01;31m\u001b[KAT1\u001b[m\u001b[KG06290\tacx3-4\tPlants display decreased sensitivity to the inhibitory effect of indole-3-butyric acid (IBA) on root elongation, while remaining sensitive to inhibitory concentrations of indole-3-acetic acid.  They maintain their ability to initiate lateral roots in response to IBA.\t15743450\n",
      "\u001b[01;31m\u001b[KAT1\u001b[m\u001b[KG08030\tSALK_009847\tSeedlings of tpst-1 had stunted roots and smaller cotyledons compared with the WT.  tpst-1 has an abnormally shaped root apical meristem due to disorganized cell division and expansion. At 15 days after germination, the leaves of the tpst-1 plants are small and pale green, the number of higher order veins is reduced, and the secondary veins often do not close.  At the flowering stage, tpst-1 has smaller rosettes, tiny leaves showing early senescence, shorter inflorescence, and a reduced number of flowers and siliques. The fertility and seed set of tpst-1 are normal.\t19666544\n",
      "\u001b[01;31m\u001b[KAT1\u001b[m\u001b[KG08260\ttilted1-4\tTwenty-five percent of embryos show abnormal cell divisions during embryogenesis-large cells- decreased rate of cell division. Division of the hypohyseal cell abnormal leading to abnormal placement of the root pole. Homozygotes show delayed flowering, abnormal floraly phyllotaxy and abnormal ovules.\t16278345\n",
      "\u001b[01;31m\u001b[KAT1\u001b[m\u001b[KG08370\tdcp1-2\tThe homozygous progeny is seedling lethal, showed arrested postembryonic development including cotyledon expansion, development of vascular networks, root elongation, and shoot development.\t17485080\n"
     ]
    },
    {
     "name": "stdout",
     "output_type": "stream",
     "text": [
      "\u001b[01;31m\u001b[KAT1\u001b[m\u001b[KG08430\tAtalm1-KO\tOn Al3+ medium, the mutant has significantly shorter roots than the Col wild type. In the absence of aluminum stress, the roots of mutant and wild type grew similarly.\t16740662\n",
      "\u001b[01;31m\u001b[KAT1\u001b[m\u001b[KG08430\tAtalm1-KO\tThe mutant exhibits very low levels of root  growth and malate release in the presence of  Al (0.2 nmol plant-1 24 h-1).\n",
      "\u001b[01;31m\u001b[KAT1\u001b[m\u001b[KG09100\trpt5b\tInsensitive to high-glucose repression of cotyledon expansion, chlorophyll accumulation, true-leaf development and root elongation. The response is specific to glucose but not to osmotic changes.\t17081979\n",
      "\u001b[01;31m\u001b[KAT1\u001b[m\u001b[KG09110\trpt5b\tInsensitive to high-glucose repression of cotyledon expansion, chlorophyll accumulation, true-leaf development and root elongation. The response is specific to glucose but not to osmotic changes.\t17081979\n",
      "\u001b[01;31m\u001b[KAT1\u001b[m\u001b[KG09940\tathema2\tno visible phenotype. decreased heme contents in roots.\n",
      "\u001b[01;31m\u001b[KAT1\u001b[m\u001b[KG10130\teca3-1\tShoot and root growth is strongly retarded when plants are grown in the absence of Mn.  Also shows delayed growth when grown in the absence of Ca.\t18024560\n",
      "\u001b[01;31m\u001b[KAT1\u001b[m\u001b[KG10570\tots1-1 ots2-1\tThe ots1-1 ots2-1 double mutant plants flower earlier than wild type plants under long days and short days. They do not differ notably from wild type plants with respect to their overall growth rate, inflorescence structure, or seedling primary root elongation rate. But, they are hypersensitive to salt based on root elongation assays. They also have a higher level of SUMOylated proteins than wild type seedlings exposed to salt stress.\t18849491\n",
      "\u001b[01;31m\u001b[KAT1\u001b[m\u001b[KG11130\tscm-1\tPosition of root-hair cells is scrambled.  Only 66% of epidermal cells (compared with 92% in wild type) overlying two cortical cells develop as root hairs, and 21% of epidermal cells overlying one cortical cell (compared with 1% in wild type) develop as root hairs.\t15618487\n",
      "\u001b[01;31m\u001b[KAT1\u001b[m\u001b[KG12240\tSALK_100813 (homozygous)\tSignificantly shorter roots.  50% reduction in vacuolar invertase (Vac-Inv) activity compared to parental line.\t16481625\n",
      "\u001b[01;31m\u001b[KAT1\u001b[m\u001b[KG12610\tddf1-LF1\tLonger roots when plants are grown under salt stress (50-100 nM NaCl).\t18643985\n",
      "\u001b[01;31m\u001b[KAT1\u001b[m\u001b[KG13290\tdot5-1\tdot5-1 mutants have a misaligned venation defect in their leaves and cotyledons. Their phenotypes may vary somewhat, but dot5-1 mutants often have shorter roots and delayed leaf initiation compared to wild-type seedlings. They also have an abnormal petiole length and phyllotaxy. Apical dominance is reduced in dot5-1 mutants, and they appear to be hypersensitive to an application of the polar auxin transport inhibitor NPA.\t18643975\n",
      "\u001b[01;31m\u001b[KAT1\u001b[m\u001b[KG14290\tsbh1-1 sbh2-1\tDwarf plants with reduced vigor, dies before expansion of the true leaves, necrotic lesions on cotyledons. When grew on agar plates, the double mutants displayed extended viability and developed into compact and epinastic rosette with small curled leaves and short petioles, however no bolting. Short roots on agar plate.\t18612100\n",
      "\u001b[01;31m\u001b[KAT1\u001b[m\u001b[KG14660\tSALK_070497\tLi+ hypersensitive. Under low Li+ concentrations, germination of mutant seeds and elongation of roots were significantly reduced.\t17270011\n",
      "\u001b[01;31m\u001b[KAT1\u001b[m\u001b[KG14660\tSALK_086336\tLi+ hypersensitive. Under low Li+ concentrations, germination of mutant seeds and elongation of roots were significantly reduced.\t17270011\n",
      "\u001b[01;31m\u001b[KAT1\u001b[m\u001b[KG15550\tga3ox1-3\tRoots shorter than that of wildtype.\t16460513\n",
      "\u001b[01;31m\u001b[KAT1\u001b[m\u001b[KG15550\tga3ox1-3 ga3ox2-1\tSevere defect in root length.\t16460513\n",
      "\u001b[01;31m\u001b[KAT1\u001b[m\u001b[KG15690\tavp1-1\tShoot defects include: smaller leaves, decreased cell number in leaves, mesophyll and vascular patterning disorganized, cup-shaped cotyledons.Root defects: small cells at apex, columella cell layers reduced to 2, deformed root cap.\t16210544\n",
      "\u001b[01;31m\u001b[KAT1\u001b[m\u001b[KG16150\twakl4-1\tSeedlings consistently show retarded root growth when grown in full- or one-half-strength MS nutrients and are hypersensitive, as assayed by a root elongation assay, to Na+, K+, Zn2+ and Cu2+.\t16286448\n",
      "\u001b[01;31m\u001b[KAT1\u001b[m\u001b[KG17110\tubp15-1\tubp15-1 mutants exhibit several anatomical defects related to leaf, root, flower, stem, and silique development. Notably, rosette leaves are narrow and serrated. An examination of ubp15-1 leaf cross-sections reveals a reduction in the number of adaxial epidermal and palisade cells spanning the width of the leaf. ubp15-1 mutant leaves also have fewer spongy cell layers than wild type leaves. The aberrant phenotype of this mutant is exacerbated when it is crossed with ubp16-1.\t18485060\n",
      "\u001b[01;31m\u001b[KAT1\u001b[m\u001b[KG17170\tgst\tAs for the root growth assay, the root elongation of both the mutant and the wild-type was inhibited at lower concentrations of TNT than 2,6-DNT. In addition, there was no statistically significant difference of the root elongation between the gst mutant and the wild-type exposed to different concentrations of 2,6-DNT and TNT from t-test.\n",
      "\u001b[01;31m\u001b[KAT1\u001b[m\u001b[KG17440\teer4\tRoots are extremely curled.   Dark-grown seedlings are hypersensitive to ethylene. Extreme hypocotyl shortening is observed when grown on 100ul /L ethylene.\n",
      "\u001b[01;31m\u001b[KAT1\u001b[m\u001b[KG17580\tSALK_019031C\tThere are no obvious defects in the aerial tissues, roots, or root hairs of xi-1 mutant plants grown under normal conditions. There are also no obvious defects in organelle trafficking, except for a slight effect on peroxisome movement. Double mutant analysis reveals a greater role for XI-1 in organelle movement and plant development (see xik-2/xi-1).\t18178669\n",
      "\u001b[01;31m\u001b[KAT1\u001b[m\u001b[KG17580\txi-k / xi-1\tThe xi-k / xi-1 double mutant plants are shorter and have smaller rosettes than wild type plants. Their reduced leaf size results from decreased cell size and decreased cell number. These double mutants produce fewer seeds per silique than wild type plants. In the leaf epidermis, Golgi stacks, peroxisomes, and mitochondria move more slowly in these mutant cells than in wild-type cells. Root hair length is reduced to ~35% of the wild type root hair length in these double mutants, but their root hair density is very similar to the wild type density.\t19060218\n",
      "\u001b[01;31m\u001b[KAT1\u001b[m\u001b[KG18350\tbud1\tbud1 plants develop significantly fewer  lateral roots, simpler venation patterns, and a quicker and greater curvature in the gravitropism assay. In addition, the bud1  plants have shorter hypocotyls at high temperature (29C) under light, which is a characteristic feature of defective auxin  action. Determination of tritium-labeled indole-3-acetic acid transport showed that the increased expression of MKK7 in bud1  or the repressed expression in MKK7 antisense transgenic plants causes deficiency or enhancement in auxin transport,  indicating that MKK7 negatively regulates polar auxin transport.\t16377756\n",
      "\u001b[01;31m\u001b[KAT1\u001b[m\u001b[KG18800\tnrp1-1 nrp2-1\tDouble mutant plants showed a short-root phenotype: roots grew like the wild-type roots until 6 d after germination (DAG). However, after 7 DAG, the elongation of the double mutant roots was dramatically reduced compared with the wild-type roots. The aerial organs (leaves, rosettes, inflorescences, flowers, fruits, and embryos) developed normally in the double mutant plants.\n",
      "\u001b[01;31m\u001b[KAT1\u001b[m\u001b[KG19220\tCS24617\tThe primary roots of the mutant produce as many lateral roots as the wild type.\t15659631\n",
      "\u001b[01;31m\u001b[KAT1\u001b[m\u001b[KG19220\tCS24617\tno obvious auxin-related growth phenotype, but roots show mild auxin resistance\t15659631\n",
      "\u001b[01;31m\u001b[KAT1\u001b[m\u001b[KG19220\tCS24618\tno obvious auxin-related growth phenotype, but roots show mild auxin resistance\t15659631\n"
     ]
    }
   ],
   "source": [
    "grep -i \"root\" Locus_Germplasm_Phenotype_20130122.txt | grep -i \"AT1\""
   ]
  },
  {
   "cell_type": "code",
   "execution_count": 15,
   "metadata": {},
   "outputs": [
    {
     "ename": "",
     "evalue": "1",
     "output_type": "error",
     "traceback": []
    }
   ],
   "source": [
    "grep -i \"root\" Locus_Germplasm_Phenotype_20130122.txt | grep -io \"AT2\"\n",
    "grep -i \"root\" Locus_Germplasm_Phenotype_20130122.txt | grep -io \"AT3\"\n",
    "grep -i \"root\" Locus_Germplasm_Phenotype_20130122.txt | grep -io \"AT4\"\n",
    "grep -i \"root\" Locus_Germplasm_Phenotype_20130122.txt | grep -io \"AT5\""
   ]
  },
  {
   "cell_type": "markdown",
   "metadata": {},
   "source": [
    "\n",
    "\n",
    "\n"
   ]
  },
  {
   "cell_type": "markdown",
   "metadata": {},
   "source": [
    "Problem 10: This dataset is from the most popular Arabidopsis database on earth! I did not change it! What does your answer to Problem 9 tell you? Can you explain it? What do you learn from this control that you should remember for the rest of your life?!\n",
    "\n",
    "That databases contain more information that we could expect, and we could reject some hypothesis just with the information that we find in the database. In this case, this databe tells us that all the root genes are in the chromosome 1."
   ]
  }
 ],
 "metadata": {
  "kernelspec": {
   "display_name": "Bash",
   "language": "bash",
   "name": "bash"
  },
  "language_info": {
   "codemirror_mode": "shell",
   "file_extension": ".sh",
   "mimetype": "text/x-sh",
   "name": "bash"
  }
 },
 "nbformat": 4,
 "nbformat_minor": 2
}
